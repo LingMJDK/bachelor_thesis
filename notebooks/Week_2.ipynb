{
 "cells": [
  {
   "cell_type": "code",
   "execution_count": 2,
   "metadata": {
    "executionInfo": {
     "elapsed": 3915,
     "status": "ok",
     "timestamp": 1744552731145,
     "user": {
      "displayName": "Michaël Linger",
      "userId": "06892422218707865910"
     },
     "user_tz": -120
    },
    "id": "PlPASPDOtNHq"
   },
   "outputs": [],
   "source": [
    "from google.colab import drive\n",
    "from collections import defaultdict\n",
    "import os\n",
    "import sys\n",
    "import textwrap\n",
    "from pathlib import Path\n",
    "from typing import List, Dict, Union, Tuple, Generator\n",
    "import torch\n",
    "import pandas as pd\n",
    "import numpy as np\n",
    "import regex as re\n",
    "import torch.nn as nn\n",
    "from tqdm.auto import tqdm\n",
    "from sklearn.model_selection import train_test_split\n",
    "from timeit import default_timer as Timer"
   ]
  },
  {
   "cell_type": "code",
   "execution_count": 3,
   "metadata": {
    "colab": {
     "base_uri": "https://localhost:8080/"
    },
    "executionInfo": {
     "elapsed": 1244,
     "status": "ok",
     "timestamp": 1744552732392,
     "user": {
      "displayName": "Michaël Linger",
      "userId": "06892422218707865910"
     },
     "user_tz": -120
    },
    "id": "HMKqJHR4tYs3",
    "outputId": "aaa9a38e-18aa-4b04-ce2a-d6857997fb0b"
   },
   "outputs": [
    {
     "name": "stdout",
     "output_type": "stream",
     "text": [
      "Drive already mounted at /content/drive; to attempt to forcibly remount, call drive.mount(\"/content/drive\", force_remount=True).\n"
     ]
    }
   ],
   "source": [
    "drive.mount(\"/content/drive\")"
   ]
  },
  {
   "cell_type": "code",
   "execution_count": 4,
   "metadata": {
    "colab": {
     "base_uri": "https://localhost:8080/",
     "height": 36
    },
    "executionInfo": {
     "elapsed": 10,
     "status": "ok",
     "timestamp": 1744552732404,
     "user": {
      "displayName": "Michaël Linger",
      "userId": "06892422218707865910"
     },
     "user_tz": -120
    },
    "id": "ObsoQEfdtat7",
    "outputId": "84afe808-2ed4-4e6b-ac8e-94065e794357"
   },
   "outputs": [
    {
     "data": {
      "application/vnd.google.colaboratory.intrinsic+json": {
       "type": "string"
      },
      "text/plain": [
       "'/content/drive/MyDrive/Thesis/scripts'"
      ]
     },
     "execution_count": 4,
     "metadata": {},
     "output_type": "execute_result"
    }
   ],
   "source": [
    "os.chdir(\"/content/drive/MyDrive/Thesis/scripts\")\n",
    "os.getcwd()"
   ]
  },
  {
   "cell_type": "code",
   "execution_count": 5,
   "metadata": {
    "executionInfo": {
     "elapsed": 15,
     "status": "ok",
     "timestamp": 1744552732416,
     "user": {
      "displayName": "Michaël Linger",
      "userId": "06892422218707865910"
     },
     "user_tz": -120
    },
    "id": "hYKQW0otthJP"
   },
   "outputs": [],
   "source": [
    "sys.path.append('/content/drive/MyDrive/Thesis/scripts')\n",
    "from data_rnn import load_imdb"
   ]
  },
  {
   "cell_type": "markdown",
   "metadata": {
    "id": "YGTmSt9pt1Cg"
   },
   "source": [
    "## 1. Load and inspect the data\n",
    "\n",
    "Notes on `load_imdb()`:\n",
    "* If final is **true**, the function returns the **canonical test/train split** with 25 000 reviews in each.\n",
    "* If final is **false**, a **validation split** is returned with 20 000 training instances and 5 000\n",
    "validation instances."
   ]
  },
  {
   "cell_type": "code",
   "execution_count": 6,
   "metadata": {
    "executionInfo": {
     "elapsed": 1399,
     "status": "ok",
     "timestamp": 1744552733810,
     "user": {
      "displayName": "Michaël Linger",
      "userId": "06892422218707865910"
     },
     "user_tz": -120
    },
    "id": "pOb70Dt9th15"
   },
   "outputs": [],
   "source": [
    "(x_train, y_train), (x_val, y_val), (i2w, w2i), numcls = load_imdb(final=False)"
   ]
  },
  {
   "cell_type": "code",
   "execution_count": 7,
   "metadata": {
    "colab": {
     "base_uri": "https://localhost:8080/"
    },
    "executionInfo": {
     "elapsed": 10,
     "status": "ok",
     "timestamp": 1744552733819,
     "user": {
      "displayName": "Michaël Linger",
      "userId": "06892422218707865910"
     },
     "user_tz": -120
    },
    "id": "IOl0xF4FtpDH",
    "outputId": "85d27a60-1bc2-44ec-e89e-4a8a4b1f7e5e"
   },
   "outputs": [
    {
     "data": {
      "text/plain": [
       "(20000, 20000)"
      ]
     },
     "execution_count": 7,
     "metadata": {},
     "output_type": "execute_result"
    }
   ],
   "source": [
    "len(x_train), len(y_train)"
   ]
  },
  {
   "cell_type": "code",
   "execution_count": 8,
   "metadata": {
    "colab": {
     "base_uri": "https://localhost:8080/"
    },
    "executionInfo": {
     "elapsed": 10,
     "status": "ok",
     "timestamp": 1744552733830,
     "user": {
      "displayName": "Michaël Linger",
      "userId": "06892422218707865910"
     },
     "user_tz": -120
    },
    "id": "fP-rhrIOttGS",
    "outputId": "b72db39b-6cfe-43c3-a4bf-ddb6f7ea32cd"
   },
   "outputs": [
    {
     "data": {
      "text/plain": [
       "(5000, 5000)"
      ]
     },
     "execution_count": 8,
     "metadata": {},
     "output_type": "execute_result"
    }
   ],
   "source": [
    "len(x_val), len(y_val)"
   ]
  },
  {
   "cell_type": "markdown",
   "metadata": {
    "id": "BiboeCXzubyN"
   },
   "source": [
    "### 1.1 Functions (Week 1)"
   ]
  },
  {
   "cell_type": "code",
   "execution_count": 9,
   "metadata": {
    "executionInfo": {
     "elapsed": 2,
     "status": "ok",
     "timestamp": 1744552733834,
     "user": {
      "displayName": "Michaël Linger",
      "userId": "06892422218707865910"
     },
     "user_tz": -120
    },
    "id": "XBCIzkIduvjy"
   },
   "outputs": [],
   "source": [
    "def create_batches(data: List[List[int]], labels: List[int]) -> List[List[List[int]]]:\n",
    "  \"\"\"\n",
    "  Takes list of reviews and labels and turns them into batches of labels and reviews of uniform length.\n",
    "  Params\n",
    "    data: A list of reviews.\n",
    "    labels: A list of labels\n",
    "  Returns\n",
    "    A list of batches containing reviews, each padded to ensure uniform length.\n",
    "  \"\"\"\n",
    "  data, labels = data.copy(), labels.copy()\n",
    "  data_and_labels = zip(data,labels)\n",
    "\n",
    "  # Sorts the data from longest to shortest reviews and unzips data from labels\n",
    "  data, labels = list(zip(*sorted(data_and_labels,\n",
    "                             key=lambda x: len(x[0]),\n",
    "                             reverse=True)\n",
    "  ))\n",
    "\n",
    "  data_batch: List[List[int]] = []\n",
    "  label_batch: List[int] = []\n",
    "\n",
    "  data_batches: List[List[List[int]]] = []\n",
    "  label_batches: List[List[int]] = []\n",
    "\n",
    "  curr_review_length: int = 0\n",
    "\n",
    "\n",
    "  # Determines the size of the longest review\n",
    "  max_tokens: int = max(len(review) for review in data)\n",
    "\n",
    "  # loop over the list of reviews (x_train)\n",
    "  for review_idx in range(len(data)):\n",
    "    curr_review: List[int] = data[review_idx]\n",
    "    curr_label: int = labels[review_idx]\n",
    "    num_tokens: int = sum(len(review) for review in data_batch) # Calculate the number of tokens in the data_batch\n",
    "\n",
    "    # If data_batch is empty add a review and set current review length\n",
    "    if num_tokens == 0:\n",
    "      data_batch.append(curr_review)\n",
    "      label_batch.append(curr_label)\n",
    "      curr_review_length = len(curr_review)\n",
    "\n",
    "    # If the number of tokens in a data_batch exceed the limit or adding an extra token of the same size exceeds the limit:\n",
    "    elif (num_tokens >= max_tokens) or (num_tokens + curr_review_length >= max_tokens):\n",
    "      # Add the current data_batch to the list of data_batches\n",
    "      data_batches.append(data_batch)\n",
    "      label_batches.append(label_batch)\n",
    "      # Create an empty data_batch for the next reviews\n",
    "      data_batch = []\n",
    "      label_batch = []\n",
    "      # Append current review to new data_batch\n",
    "      data_batch.append(curr_review)\n",
    "      label_batch.append(curr_label)\n",
    "      # Reset current review length\n",
    "      curr_review_length = len(curr_review)\n",
    "\n",
    "    else:\n",
    "      padding = curr_review_length - len(curr_review) # Calculate padding needed for next token\n",
    "      curr_review += padding * [0] # Add padding to next token\n",
    "      data_batch.append(curr_review) # Add a review to the data_batch list\n",
    "      label_batch.append(curr_label)\n",
    "\n",
    "  # Ensures that the final data_batch is also added.\n",
    "  if data_batch:\n",
    "    data_batches.append(data_batch)\n",
    "    label_batches.append(label_batch)\n",
    "\n",
    "  return data_batches, label_batches\n",
    "\n",
    "#################################################################################\n",
    "\n",
    "def read_review(review: List[int])-> None:\n",
    "  \"\"\"\n",
    "  Takes a list of integers as input and prints their string representation.\n",
    "  Params:\n",
    "    review: A list of integers.\n",
    "  Returns:\n",
    "    None\n",
    "  \"\"\"\n",
    "  print(textwrap.fill(\" \".join([i2w[word] for word in review]), 100),)\n",
    "\n",
    "##################################################################################\n",
    "\n",
    "def show_batches(data_batches, label_batches,\n",
    "                 batch_num: int = 0,\n",
    "                 print_reviews: bool = True) -> None:\n",
    "  \"\"\"\n",
    "  Filler.\n",
    "  \"\"\"\n",
    "  class_name = ['Positive', 'Negative']\n",
    "\n",
    "  num_data_batches  = len(data_batches)\n",
    "  num_label_batches = len(label_batches)\n",
    "\n",
    "  data_batch  = data_batches[batch_num]\n",
    "  label_batch = label_batches[batch_num]\n",
    "\n",
    "  num_tokens = sum(len(review) for review in data_batch)\n",
    "\n",
    "  review_length = len(data_batch[0])\n",
    "\n",
    "  # check if reviews are all the same size\n",
    "  same_size = max(len(review) for review in data_batch) == min(len(review) for review in data_batch)\n",
    "\n",
    "\n",
    "  print(f\"Number of data batches: {num_data_batches} | Number of label batches {num_label_batches}\",\n",
    "        f\"\\nBatch number: {batch_num}\"\n",
    "        \"\\n____________________________________________\\n\")\n",
    "  print(f\"Number of tokens in batch: {num_tokens}\")\n",
    "  print(f\"Review length: {review_length}\",\n",
    "        f\"\\nReviews are the same size: {same_size}\")\n",
    "  print(f\"Data batch size: {len(data_batch)} | Label batch size: {len(label_batch)}\",\n",
    "        \"\\n_____________________________________________\\n\")\n",
    "\n",
    "  if print_reviews:\n",
    "    for review, label in zip(data_batch, label_batch):\n",
    "      read_review(review)\n",
    "      print(f'\\nLabel: {class_name[label]}', \"\\n------------------------------------\")\n",
    "\n",
    "#############################################################################################\n",
    "\n",
    "def data_to_tensor_batch(data: List[list[int]],\n",
    "                         labels: List[int],\n",
    "                         device: str) -> Tuple[Generator[torch.Tensor, None, None], Generator[torch.Tensor, None, None]] :\n",
    "  \"\"\"\n",
    "  Filler.\n",
    "  \"\"\"\n",
    "  x_batches, y_batches = create_batches(data, labels)\n",
    "  x_batched_tensors = (torch.tensor(batch, dtype=torch.long, device=device) for batch in x_batches)\n",
    "  y_batched_tensors = (torch.tensor(batch, dtype=torch.long, device=device) for batch in y_batches)\n",
    "\n",
    "  return x_batched_tensors, y_batched_tensors\n",
    "\n",
    "\n",
    "\n",
    "def accuracy_fn(y_pred, y_true):\n",
    "    \"\"\"Calculates accuracy between truth labels and predictions.\n",
    "\n",
    "    Params:\n",
    "        y_true (torch.Tensor): Truth labels for predictions.\n",
    "        y_pred (torch.Tensor): Predictions to be compared to predictions.\n",
    "\n",
    "    Returns:\n",
    "        [torch.float]: Accuracy value between y_true and y_pred, e.g. 78.45\n",
    "    \"\"\"\n",
    "    correct = torch.eq(y_true, y_pred).sum().item()\n",
    "    acc = (correct / len(y_pred)) * 100\n",
    "    return acc\n",
    "\n",
    "def train_step(model,\n",
    "               train_data,\n",
    "               loss_fn,\n",
    "               accuracy_fn,\n",
    "               optimizer,\n",
    "               device):\n",
    "  \"\"\"\n",
    "  \"\"\"\n",
    "\n",
    "  # Set model to device and evaluation mode\n",
    "\n",
    "  model.train()\n",
    "\n",
    "  train_loss, train_acc = 0, 0\n",
    "\n",
    "  for X, y in train_data:\n",
    "    X, y = X.to(device), y.to(device)\n",
    "\n",
    "    # 1. Forward Pass\n",
    "    y_logits = model(X) # Output is raw logits\n",
    "    y_preds = y_logits.argmax(dim=1) # Turns logits into predictions\n",
    "\n",
    "    # 2.1 Calculate Loss and Accuracy\n",
    "    loss = loss_fn(y_logits,\n",
    "                  y)\n",
    "    acc = accuracy_fn(y_pred=y_preds,\n",
    "                            y_true=y)\n",
    "\n",
    "    # 2.2 Accumulate Loss and Accuracy\n",
    "    train_loss += loss.item()\n",
    "    train_acc += acc\n",
    "\n",
    "    # 3. Optimizer zero grad\n",
    "    optimizer.zero_grad()\n",
    "\n",
    "    # 4. Loss backwards\n",
    "    loss.backward()\n",
    "\n",
    "    # 5. Step\n",
    "    optimizer.step()\n",
    "\n",
    "  train_loss /= len(train_data)\n",
    "  train_acc /= len(train_data)\n",
    "\n",
    "  print(f\"Epoch: {epoch} | Train Loss: {train_loss:.4f} | Train accuracy {train_acc:.2f}%\")\n",
    "\n",
    "\n",
    "############################################################################\n",
    "\n",
    "\n",
    "def test_step(model,\n",
    "              test_data,\n",
    "              loss_fn,\n",
    "              accuracy_fn,\n",
    "              device):\n",
    "  '''\n",
    "  '''\n",
    "  # Set model to device and evaluation mode\n",
    "\n",
    "  model.eval()\n",
    "\n",
    "\n",
    "\n",
    "  with torch.inference_mode():\n",
    "    test_loss, test_acc = 0, 0\n",
    "    for X, y in test_data:\n",
    "      X, y =  X.to(device), y.to(device)\n",
    "\n",
    "      # 1. Forward Pass\n",
    "      y_logits = model(X) # Output is raw logits\n",
    "      y_preds = y_logits.argmax(dim=1) # Turns logits into predictions\n",
    "\n",
    "      # 2.1 Calculate Loss and Accuracy\n",
    "      loss = loss_fn(y_logits,\n",
    "                    y)\n",
    "      acc = accuracy_fn(y_pred=y_preds,\n",
    "                        y_true=y)\n",
    "      # 2.2 Accumulate Loss and Accuracy\n",
    "      test_loss += loss.item()\n",
    "      test_acc += acc\n",
    "\n",
    "    test_loss /= len(test_data)\n",
    "    test_acc /= len(test_data)\n",
    "    print(f\"Epoch: {epoch} | Test loss: {test_loss:.4f} | Test accuracy {test_acc:.2f}%\")\n",
    "\n",
    "\n",
    "###################################################################################\n",
    "\n",
    "def print_train_time(start: float,\n",
    "                     end: float,\n",
    "                     device: torch.device = None):\n",
    "  \"\"\"Prints difference between start and end time.\"\"\"\n",
    "  total_time = end - start\n",
    "  print(f\"Train time on {device}: {total_time:.3f} seconds\")\n",
    "  return total_time"
   ]
  },
  {
   "cell_type": "markdown",
   "metadata": {
    "id": "dZYTrACqu9D-"
   },
   "source": [
    "### 1.2 Models (Week 1)"
   ]
  },
  {
   "cell_type": "code",
   "execution_count": 10,
   "metadata": {
    "executionInfo": {
     "elapsed": 31,
     "status": "ok",
     "timestamp": 1744552733867,
     "user": {
      "displayName": "Michaël Linger",
      "userId": "06892422218707865910"
     },
     "user_tz": -120
    },
    "id": "vXUDA1civVXD"
   },
   "outputs": [],
   "source": [
    "class GlobalMeanPooling(nn.Module):\n",
    "  def __init__(self):\n",
    "    super().__init__()\n",
    "\n",
    "  def forward(self, x):\n",
    "    \"\"\"Extracts the mean across the time (sequence) dimension and returns the values of the embedded vector.\n",
    "    \"\"\"\n",
    "    return torch.mean(x, dim=1)\n",
    "\n",
    "#########################################################\n",
    "\n",
    "\n",
    "class SentimentClassificationModelV1(nn.Module):\n",
    "\n",
    "  def __init__(self, vocab_size, emb_size, output_shape):\n",
    "    \"\"\"\n",
    "    Params\n",
    "      vocab_size: The size of the vocabulary.\n",
    "      emb_size: The size of the embedding vector\n",
    "      output_shape:\n",
    "    \"\"\"\n",
    "    super().__init__()\n",
    "    self.sequence = nn.Sequential(nn.Embedding(num_embeddings=vocab_size, # Convert the integer indices to embedding vectors\n",
    "                                               embedding_dim=emb_size,\n",
    "                                               padding_idx=0),\n",
    "                                  GlobalMeanPooling(), # Global max pooling along sequence dimension\n",
    "                                  # nn.ReLU(),\n",
    "                                  nn.Linear(in_features=emb_size, # Project down to the number of classes\n",
    "                                  out_features=output_shape)\n",
    "                                  )\n",
    "\n",
    "\n",
    "  def forward(self, x):\n",
    "    return self.sequence(x)"
   ]
  },
  {
   "cell_type": "markdown",
   "metadata": {
    "id": "Mj37Puimv3jg"
   },
   "source": [
    "## 2. Adding Simple self attention"
   ]
  },
  {
   "cell_type": "code",
   "execution_count": 11,
   "metadata": {
    "executionInfo": {
     "elapsed": 40,
     "status": "ok",
     "timestamp": 1744552733909,
     "user": {
      "displayName": "Michaël Linger",
      "userId": "06892422218707865910"
     },
     "user_tz": -120
    },
    "id": "DjN1FD0wyPOq"
   },
   "outputs": [],
   "source": [
    "device = 'cuda' if torch.cuda.is_available() else 'cpu'"
   ]
  },
  {
   "cell_type": "code",
   "execution_count": 12,
   "metadata": {
    "executionInfo": {
     "elapsed": 2,
     "status": "ok",
     "timestamp": 1744552733913,
     "user": {
      "displayName": "Michaël Linger",
      "userId": "06892422218707865910"
     },
     "user_tz": -120
    },
    "id": "CTNuMybl0E32"
   },
   "outputs": [],
   "source": [
    "VOCAB_SIZE = len(i2w)\n",
    "EMB_SIZE = 300"
   ]
  },
  {
   "cell_type": "code",
   "execution_count": 13,
   "metadata": {
    "executionInfo": {
     "elapsed": 2692,
     "status": "ok",
     "timestamp": 1744552736607,
     "user": {
      "displayName": "Michaël Linger",
      "userId": "06892422218707865910"
     },
     "user_tz": -120
    },
    "id": "IfnurRPGwga3"
   },
   "outputs": [],
   "source": [
    "x_train_gen, y_train_gen = data_to_tensor_batch(x_train,\n",
    "                                                y_train,\n",
    "                                                device)\n",
    "\n",
    "Xy_train_set = list(zip(x_train_gen, y_train_gen))"
   ]
  },
  {
   "cell_type": "code",
   "execution_count": 14,
   "metadata": {
    "executionInfo": {
     "elapsed": 1827,
     "status": "ok",
     "timestamp": 1744552738437,
     "user": {
      "displayName": "Michaël Linger",
      "userId": "06892422218707865910"
     },
     "user_tz": -120
    },
    "id": "Wm17YRKLxaJI"
   },
   "outputs": [],
   "source": [
    "x_val_gen, y_val_gen = data_to_tensor_batch(x_train,\n",
    "                                            y_train,\n",
    "                                            device)\n",
    "\n",
    "Xy_val_set = list(zip(x_val_gen, y_val_gen))"
   ]
  },
  {
   "cell_type": "code",
   "execution_count": 15,
   "metadata": {
    "colab": {
     "base_uri": "https://localhost:8080/"
    },
    "executionInfo": {
     "elapsed": 488,
     "status": "ok",
     "timestamp": 1744552738928,
     "user": {
      "displayName": "Michaël Linger",
      "userId": "06892422218707865910"
     },
     "user_tz": -120
    },
    "id": "y2e0v4rR0AQ2",
    "outputId": "10e54a12-179a-420f-ec82-3ea87ecc2b99"
   },
   "outputs": [
    {
     "data": {
      "text/plain": [
       "Embedding(99430, 300, padding_idx=0)"
      ]
     },
     "execution_count": 15,
     "metadata": {},
     "output_type": "execute_result"
    }
   ],
   "source": [
    "embedding = nn.Embedding(num_embeddings=VOCAB_SIZE,\n",
    "                         embedding_dim=EMB_SIZE,\n",
    "                         padding_idx=0\n",
    "                         )\n",
    "embedding.to(device)"
   ]
  },
  {
   "cell_type": "code",
   "execution_count": 16,
   "metadata": {
    "colab": {
     "base_uri": "https://localhost:8080/"
    },
    "executionInfo": {
     "elapsed": 49,
     "status": "ok",
     "timestamp": 1744552738979,
     "user": {
      "displayName": "Michaël Linger",
      "userId": "06892422218707865910"
     },
     "user_tz": -120
    },
    "id": "fF0ym3kh00S5",
    "outputId": "eb056690-db69-4082-bcf8-7d6a3583fbf9"
   },
   "outputs": [
    {
     "data": {
      "text/plain": [
       "torch.Size([53, 34])"
      ]
     },
     "execution_count": 16,
     "metadata": {},
     "output_type": "execute_result"
    }
   ],
   "source": [
    "test_tokens = Xy_val_set[-1][0]\n",
    "test_tokens.shape"
   ]
  },
  {
   "cell_type": "code",
   "execution_count": 17,
   "metadata": {
    "colab": {
     "base_uri": "https://localhost:8080/"
    },
    "executionInfo": {
     "elapsed": 84,
     "status": "ok",
     "timestamp": 1744552739092,
     "user": {
      "displayName": "Michaël Linger",
      "userId": "06892422218707865910"
     },
     "user_tz": -120
    },
    "id": "Vk40dJog1PY5",
    "outputId": "b59fc4fa-b42a-48d3-9092-69691d844658"
   },
   "outputs": [
    {
     "data": {
      "text/plain": [
       "(torch.Size([34, 300]), torch.Size([300, 34]))"
      ]
     },
     "execution_count": 17,
     "metadata": {},
     "output_type": "execute_result"
    }
   ],
   "source": [
    "vector_tokens = embedding(test_tokens)[0]\n",
    "vector_tokens.shape, vector_tokens.T.shape"
   ]
  },
  {
   "cell_type": "code",
   "execution_count": 18,
   "metadata": {
    "colab": {
     "base_uri": "https://localhost:8080/"
    },
    "executionInfo": {
     "elapsed": 357,
     "status": "ok",
     "timestamp": 1744552739451,
     "user": {
      "displayName": "Michaël Linger",
      "userId": "06892422218707865910"
     },
     "user_tz": -120
    },
    "id": "l6N94u2u153K",
    "outputId": "47e7b0cf-4d0b-48c2-99ad-10849fdf2173"
   },
   "outputs": [
    {
     "data": {
      "text/plain": [
       "tensor([[272.7883, -22.8565,  -9.1315,  ...,   0.0000,   0.0000,   0.0000],\n",
       "        [-22.8565, 334.4389, -10.1668,  ...,   0.0000,   0.0000,   0.0000],\n",
       "        [ -9.1315, -10.1668, 291.0109,  ...,   0.0000,   0.0000,   0.0000],\n",
       "        ...,\n",
       "        [  0.0000,   0.0000,   0.0000,  ...,   0.0000,   0.0000,   0.0000],\n",
       "        [  0.0000,   0.0000,   0.0000,  ...,   0.0000,   0.0000,   0.0000],\n",
       "        [  0.0000,   0.0000,   0.0000,  ...,   0.0000,   0.0000,   0.0000]],\n",
       "       device='cuda:0', grad_fn=<MmBackward0>)"
      ]
     },
     "execution_count": 18,
     "metadata": {},
     "output_type": "execute_result"
    }
   ],
   "source": [
    "weights_hat = torch.matmul(vector_tokens, vector_tokens.T)\n",
    "weights_hat"
   ]
  },
  {
   "cell_type": "code",
   "execution_count": 19,
   "metadata": {
    "colab": {
     "base_uri": "https://localhost:8080/"
    },
    "executionInfo": {
     "elapsed": 29,
     "status": "ok",
     "timestamp": 1744552739482,
     "user": {
      "displayName": "Michaël Linger",
      "userId": "06892422218707865910"
     },
     "user_tz": -120
    },
    "id": "SqFGwOjD3m48",
    "outputId": "0a1c6183-af7f-4600-cc7a-632a44829900"
   },
   "outputs": [
    {
     "data": {
      "text/plain": [
       "(torch.Size([34, 34]),\n",
       " tensor([0.0294, 0.0294, 0.0294, 0.0294, 0.0294, 0.0294, 0.0294, 0.0294, 0.0294,\n",
       "         0.0294, 0.0294, 0.0294, 0.0294, 0.0294, 0.0294, 0.0294, 0.0294, 0.0294,\n",
       "         0.0294, 0.0294, 0.0294, 0.0294, 0.0294, 0.0294, 0.0294, 0.0294, 0.0294,\n",
       "         0.0294, 0.0294, 0.0294, 0.0294, 0.0294, 0.0294, 0.0294],\n",
       "        device='cuda:0', grad_fn=<SelectBackward0>))"
      ]
     },
     "execution_count": 19,
     "metadata": {},
     "output_type": "execute_result"
    }
   ],
   "source": [
    "weights = torch.softmax(weights_hat, dim=1)\n",
    "weights.shape, weights[27]"
   ]
  },
  {
   "cell_type": "code",
   "execution_count": 20,
   "metadata": {
    "colab": {
     "base_uri": "https://localhost:8080/"
    },
    "executionInfo": {
     "elapsed": 7,
     "status": "ok",
     "timestamp": 1744552739490,
     "user": {
      "displayName": "Michaël Linger",
      "userId": "06892422218707865910"
     },
     "user_tz": -120
    },
    "id": "W5XYoH9O4hTj",
    "outputId": "7405b59c-73a3-4e0c-ff34-2b53423f20b2"
   },
   "outputs": [
    {
     "data": {
      "text/plain": [
       "torch.Size([34, 300])"
      ]
     },
     "execution_count": 20,
     "metadata": {},
     "output_type": "execute_result"
    }
   ],
   "source": [
    "output_y = torch.matmul(weights, vector_tokens)\n",
    "output_y.shape"
   ]
  },
  {
   "cell_type": "markdown",
   "metadata": {
    "id": "_g_DxXrYysTt"
   },
   "source": [
    "# Simple Self attention: Attention weights\n",
    "\n",
    "\n",
    "\n",
    "![image.png](data:image/png;base64,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)"
   ]
  },
  {
   "cell_type": "code",
   "execution_count": 21,
   "metadata": {
    "colab": {
     "base_uri": "https://localhost:8080/"
    },
    "executionInfo": {
     "elapsed": 12,
     "status": "ok",
     "timestamp": 1744552739503,
     "user": {
      "displayName": "Michaël Linger",
      "userId": "06892422218707865910"
     },
     "user_tz": -120
    },
    "id": "xXcs9vAvxg8B",
    "outputId": "5fb5cd62-6a62-42ac-b007-41a148285ab1"
   },
   "outputs": [
    {
     "data": {
      "text/plain": [
       "torch.Size([1, 2514])"
      ]
     },
     "execution_count": 21,
     "metadata": {},
     "output_type": "execute_result"
    }
   ],
   "source": [
    "Xy_train_set[0][0].shape\n"
   ]
  },
  {
   "cell_type": "code",
   "execution_count": 21,
   "metadata": {
    "executionInfo": {
     "elapsed": 35,
     "status": "ok",
     "timestamp": 1744552739540,
     "user": {
      "displayName": "Michaël Linger",
      "userId": "06892422218707865910"
     },
     "user_tz": -120
    },
    "id": "klYZ2q26aQCO"
   },
   "outputs": [],
   "source": []
  },
  {
   "cell_type": "code",
   "execution_count": 22,
   "metadata": {
    "executionInfo": {
     "elapsed": 10,
     "status": "ok",
     "timestamp": 1744552739552,
     "user": {
      "displayName": "Michaël Linger",
      "userId": "06892422218707865910"
     },
     "user_tz": -120
    },
    "id": "ez391tqnzaJG"
   },
   "outputs": [],
   "source": [
    "class SimpleSelfAttentionModelV1(nn.Module):\n",
    "  def __init__(self, vocab_size,\n",
    "               emb_size: int,\n",
    "               output_shape: int,\n",
    "               padding_idx: int = 0) -> None:\n",
    "\n",
    "    super().__init__()\n",
    "    self.embedding = nn.Embedding(num_embeddings=vocab_size,\n",
    "                                  embedding_dim=emb_size,\n",
    "                                  padding_idx=padding_idx\n",
    "                                  )\n",
    "\n",
    "    self.linear_layer = nn.Linear(in_features=emb_size,\n",
    "                                  out_features=output_shape\n",
    "                                  )\n",
    "\n",
    "  def forward(self, x: torch.tensor):\n",
    "    embeddings = self.embedding(x)  # (batch_size, seq_length, emb_size)\n",
    "    attention_weight_scores = torch.bmm(embeddings,\n",
    "                                  embeddings.transpose(1, 2))\n",
    "    attention_weigths = torch.softmax(attention_weight_scores,\n",
    "                                    dim=2\n",
    "                                    )\n",
    "    output_vector = torch.bmm(attention_weigths,\n",
    "                              embeddings\n",
    "                              )\n",
    "    max_pool = torch.max(output_vector, dim=1)[0]\n",
    "\n",
    "    output = self.linear_layer(max_pool)\n",
    "    return output"
   ]
  },
  {
   "cell_type": "code",
   "execution_count": 23,
   "metadata": {
    "executionInfo": {
     "elapsed": 502,
     "status": "ok",
     "timestamp": 1744552740056,
     "user": {
      "displayName": "Michaël Linger",
      "userId": "06892422218707865910"
     },
     "user_tz": -120
    },
    "id": "j9_H3ZCWZTKM"
   },
   "outputs": [],
   "source": [
    "model_0 = SimpleSelfAttentionModelV1(vocab_size=VOCAB_SIZE,\n",
    "                                     emb_size=EMB_SIZE,\n",
    "                                     output_shape = numcls).to(device)"
   ]
  },
  {
   "cell_type": "code",
   "execution_count": 24,
   "metadata": {
    "executionInfo": {
     "elapsed": 2941,
     "status": "ok",
     "timestamp": 1744552742995,
     "user": {
      "displayName": "Michaël Linger",
      "userId": "06892422218707865910"
     },
     "user_tz": -120
    },
    "id": "H9XPiGmhay1d"
   },
   "outputs": [],
   "source": [
    "loss_fn = nn.CrossEntropyLoss()\n",
    "optimizer = torch.optim.Adam(params=model_0.parameters(),\n",
    "                             lr=0.01)"
   ]
  },
  {
   "cell_type": "code",
   "execution_count": 25,
   "metadata": {
    "colab": {
     "base_uri": "https://localhost:8080/",
     "height": 570,
     "referenced_widgets": [
      "ca1d226486da4f149162b124daf094ff",
      "9301e760ff90461f98373ee85a1d84cd",
      "72fd48cfa9044d7091e48d360e20bf98",
      "280b76a4ec0b4d768810ef9f1415cae9",
      "1a8b79c7e51f49aeb27f9dc544d3f989",
      "c6ab20e4a5be4ba681aa34927dc2a0a0",
      "c97374c27eb64d0aa375ebade509aac7",
      "60f549d7e839435aa25b79b22a1d24c9",
      "1bccfb4d9f1c45e5845add4ef6088a52",
      "f1036a42fcd142aca3e7d884fb687b52",
      "a03155f3df104c369c05f392352c54dc"
     ]
    },
    "executionInfo": {
     "elapsed": 248964,
     "status": "ok",
     "timestamp": 1744552991982,
     "user": {
      "displayName": "Michaël Linger",
      "userId": "06892422218707865910"
     },
     "user_tz": -120
    },
    "id": "y7VIIA4wbDtE",
    "outputId": "63b23716-199a-4f32-cfad-60cde9a9b349"
   },
   "outputs": [
    {
     "data": {
      "application/vnd.jupyter.widget-view+json": {
       "model_id": "ca1d226486da4f149162b124daf094ff",
       "version_major": 2,
       "version_minor": 0
      },
      "text/plain": [
       "  0%|          | 0/10 [00:00<?, ?it/s]"
      ]
     },
     "metadata": {},
     "output_type": "display_data"
    },
    {
     "name": "stdout",
     "output_type": "stream",
     "text": [
      "Epoch: 0 | Train Loss: 1.0305 | Train accuracy 68.90%\n",
      "Epoch: 0 | Test loss: 0.3726 | Test accuracy 86.75%\n",
      "Train time on cuda: 25.799 seconds\n",
      "Epoch: 1 | Train Loss: 0.6646 | Train accuracy 87.30%\n",
      "Epoch: 1 | Test loss: 0.4307 | Test accuracy 88.20%\n",
      "Train time on cuda: 50.547 seconds\n",
      "Epoch: 2 | Train Loss: 0.6742 | Train accuracy 92.09%\n",
      "Epoch: 2 | Test loss: 0.0988 | Test accuracy 97.66%\n",
      "Train time on cuda: 75.669 seconds\n",
      "Epoch: 3 | Train Loss: 0.5405 | Train accuracy 94.44%\n",
      "Epoch: 3 | Test loss: 0.0984 | Test accuracy 98.34%\n",
      "Train time on cuda: 100.638 seconds\n",
      "Epoch: 4 | Train Loss: 0.4181 | Train accuracy 96.49%\n",
      "Epoch: 4 | Test loss: 0.0969 | Test accuracy 98.51%\n",
      "Train time on cuda: 125.357 seconds\n",
      "Epoch: 5 | Train Loss: 0.1503 | Train accuracy 98.28%\n",
      "Epoch: 5 | Test loss: 0.1748 | Test accuracy 97.76%\n",
      "Train time on cuda: 150.112 seconds\n",
      "Epoch: 6 | Train Loss: 0.3816 | Train accuracy 98.16%\n",
      "Epoch: 6 | Test loss: 0.1076 | Test accuracy 98.73%\n",
      "Train time on cuda: 174.888 seconds\n",
      "Epoch: 7 | Train Loss: 0.2057 | Train accuracy 98.56%\n",
      "Epoch: 7 | Test loss: 0.0810 | Test accuracy 99.13%\n",
      "Train time on cuda: 199.627 seconds\n",
      "Epoch: 8 | Train Loss: 0.1330 | Train accuracy 99.02%\n",
      "Epoch: 8 | Test loss: 0.0811 | Test accuracy 99.24%\n",
      "Train time on cuda: 224.314 seconds\n",
      "Epoch: 9 | Train Loss: 0.1591 | Train accuracy 99.07%\n",
      "Epoch: 9 | Test loss: 0.0210 | Test accuracy 99.78%\n",
      "Train time on cuda: 249.031 seconds\n"
     ]
    }
   ],
   "source": [
    "torch.cuda.manual_seed(22)\n",
    "epochs = 10\n",
    "train_time_start_on_gpu = Timer()\n",
    "\n",
    "\n",
    "for epoch in tqdm(range(epochs)):\n",
    "\n",
    "  # Train step\n",
    "  train_step(model=model_0,\n",
    "             train_data=Xy_train_set,\n",
    "             loss_fn=loss_fn,\n",
    "             accuracy_fn=accuracy_fn,\n",
    "             optimizer=optimizer,\n",
    "             device=device)\n",
    "  # Test step\n",
    "  test_step(model=model_0,\n",
    "            test_data=Xy_val_set,\n",
    "            loss_fn=loss_fn,\n",
    "            accuracy_fn=accuracy_fn,\n",
    "            device=device)\n",
    "\n",
    "  train_time_end_on_gpu = Timer()\n",
    "  total_train_time_model_0 = print_train_time(start=train_time_start_on_gpu,\n",
    "                                              end=train_time_end_on_gpu,\n",
    "                                              device=device)"
   ]
  }
 ],
 "metadata": {
  "accelerator": "GPU",
  "colab": {
   "authorship_tag": "ABX9TyOnL57PIOjCa6msUfXWCik6",
   "gpuType": "T4",
   "provenance": []
  },
  "kernelspec": {
   "display_name": "Python 3",
   "name": "python3"
  },
  "language_info": {
   "name": "python"
  },
  "widgets": {
   "application/vnd.jupyter.widget-state+json": {
    "1a8b79c7e51f49aeb27f9dc544d3f989": {
     "model_module": "@jupyter-widgets/base",
     "model_module_version": "1.2.0",
     "model_name": "LayoutModel",
     "state": {
      "_model_module": "@jupyter-widgets/base",
      "_model_module_version": "1.2.0",
      "_model_name": "LayoutModel",
      "_view_count": null,
      "_view_module": "@jupyter-widgets/base",
      "_view_module_version": "1.2.0",
      "_view_name": "LayoutView",
      "align_content": null,
      "align_items": null,
      "align_self": null,
      "border": null,
      "bottom": null,
      "display": null,
      "flex": null,
      "flex_flow": null,
      "grid_area": null,
      "grid_auto_columns": null,
      "grid_auto_flow": null,
      "grid_auto_rows": null,
      "grid_column": null,
      "grid_gap": null,
      "grid_row": null,
      "grid_template_areas": null,
      "grid_template_columns": null,
      "grid_template_rows": null,
      "height": null,
      "justify_content": null,
      "justify_items": null,
      "left": null,
      "margin": null,
      "max_height": null,
      "max_width": null,
      "min_height": null,
      "min_width": null,
      "object_fit": null,
      "object_position": null,
      "order": null,
      "overflow": null,
      "overflow_x": null,
      "overflow_y": null,
      "padding": null,
      "right": null,
      "top": null,
      "visibility": null,
      "width": null
     }
    },
    "1bccfb4d9f1c45e5845add4ef6088a52": {
     "model_module": "@jupyter-widgets/controls",
     "model_module_version": "1.5.0",
     "model_name": "ProgressStyleModel",
     "state": {
      "_model_module": "@jupyter-widgets/controls",
      "_model_module_version": "1.5.0",
      "_model_name": "ProgressStyleModel",
      "_view_count": null,
      "_view_module": "@jupyter-widgets/base",
      "_view_module_version": "1.2.0",
      "_view_name": "StyleView",
      "bar_color": null,
      "description_width": ""
     }
    },
    "280b76a4ec0b4d768810ef9f1415cae9": {
     "model_module": "@jupyter-widgets/controls",
     "model_module_version": "1.5.0",
     "model_name": "HTMLModel",
     "state": {
      "_dom_classes": [],
      "_model_module": "@jupyter-widgets/controls",
      "_model_module_version": "1.5.0",
      "_model_name": "HTMLModel",
      "_view_count": null,
      "_view_module": "@jupyter-widgets/controls",
      "_view_module_version": "1.5.0",
      "_view_name": "HTMLView",
      "description": "",
      "description_tooltip": null,
      "layout": "IPY_MODEL_f1036a42fcd142aca3e7d884fb687b52",
      "placeholder": "​",
      "style": "IPY_MODEL_a03155f3df104c369c05f392352c54dc",
      "value": " 10/10 [04:09&lt;00:00, 24.76s/it]"
     }
    },
    "60f549d7e839435aa25b79b22a1d24c9": {
     "model_module": "@jupyter-widgets/base",
     "model_module_version": "1.2.0",
     "model_name": "LayoutModel",
     "state": {
      "_model_module": "@jupyter-widgets/base",
      "_model_module_version": "1.2.0",
      "_model_name": "LayoutModel",
      "_view_count": null,
      "_view_module": "@jupyter-widgets/base",
      "_view_module_version": "1.2.0",
      "_view_name": "LayoutView",
      "align_content": null,
      "align_items": null,
      "align_self": null,
      "border": null,
      "bottom": null,
      "display": null,
      "flex": null,
      "flex_flow": null,
      "grid_area": null,
      "grid_auto_columns": null,
      "grid_auto_flow": null,
      "grid_auto_rows": null,
      "grid_column": null,
      "grid_gap": null,
      "grid_row": null,
      "grid_template_areas": null,
      "grid_template_columns": null,
      "grid_template_rows": null,
      "height": null,
      "justify_content": null,
      "justify_items": null,
      "left": null,
      "margin": null,
      "max_height": null,
      "max_width": null,
      "min_height": null,
      "min_width": null,
      "object_fit": null,
      "object_position": null,
      "order": null,
      "overflow": null,
      "overflow_x": null,
      "overflow_y": null,
      "padding": null,
      "right": null,
      "top": null,
      "visibility": null,
      "width": null
     }
    },
    "72fd48cfa9044d7091e48d360e20bf98": {
     "model_module": "@jupyter-widgets/controls",
     "model_module_version": "1.5.0",
     "model_name": "FloatProgressModel",
     "state": {
      "_dom_classes": [],
      "_model_module": "@jupyter-widgets/controls",
      "_model_module_version": "1.5.0",
      "_model_name": "FloatProgressModel",
      "_view_count": null,
      "_view_module": "@jupyter-widgets/controls",
      "_view_module_version": "1.5.0",
      "_view_name": "ProgressView",
      "bar_style": "success",
      "description": "",
      "description_tooltip": null,
      "layout": "IPY_MODEL_60f549d7e839435aa25b79b22a1d24c9",
      "max": 10,
      "min": 0,
      "orientation": "horizontal",
      "style": "IPY_MODEL_1bccfb4d9f1c45e5845add4ef6088a52",
      "value": 10
     }
    },
    "9301e760ff90461f98373ee85a1d84cd": {
     "model_module": "@jupyter-widgets/controls",
     "model_module_version": "1.5.0",
     "model_name": "HTMLModel",
     "state": {
      "_dom_classes": [],
      "_model_module": "@jupyter-widgets/controls",
      "_model_module_version": "1.5.0",
      "_model_name": "HTMLModel",
      "_view_count": null,
      "_view_module": "@jupyter-widgets/controls",
      "_view_module_version": "1.5.0",
      "_view_name": "HTMLView",
      "description": "",
      "description_tooltip": null,
      "layout": "IPY_MODEL_c6ab20e4a5be4ba681aa34927dc2a0a0",
      "placeholder": "​",
      "style": "IPY_MODEL_c97374c27eb64d0aa375ebade509aac7",
      "value": "100%"
     }
    },
    "a03155f3df104c369c05f392352c54dc": {
     "model_module": "@jupyter-widgets/controls",
     "model_module_version": "1.5.0",
     "model_name": "DescriptionStyleModel",
     "state": {
      "_model_module": "@jupyter-widgets/controls",
      "_model_module_version": "1.5.0",
      "_model_name": "DescriptionStyleModel",
      "_view_count": null,
      "_view_module": "@jupyter-widgets/base",
      "_view_module_version": "1.2.0",
      "_view_name": "StyleView",
      "description_width": ""
     }
    },
    "c6ab20e4a5be4ba681aa34927dc2a0a0": {
     "model_module": "@jupyter-widgets/base",
     "model_module_version": "1.2.0",
     "model_name": "LayoutModel",
     "state": {
      "_model_module": "@jupyter-widgets/base",
      "_model_module_version": "1.2.0",
      "_model_name": "LayoutModel",
      "_view_count": null,
      "_view_module": "@jupyter-widgets/base",
      "_view_module_version": "1.2.0",
      "_view_name": "LayoutView",
      "align_content": null,
      "align_items": null,
      "align_self": null,
      "border": null,
      "bottom": null,
      "display": null,
      "flex": null,
      "flex_flow": null,
      "grid_area": null,
      "grid_auto_columns": null,
      "grid_auto_flow": null,
      "grid_auto_rows": null,
      "grid_column": null,
      "grid_gap": null,
      "grid_row": null,
      "grid_template_areas": null,
      "grid_template_columns": null,
      "grid_template_rows": null,
      "height": null,
      "justify_content": null,
      "justify_items": null,
      "left": null,
      "margin": null,
      "max_height": null,
      "max_width": null,
      "min_height": null,
      "min_width": null,
      "object_fit": null,
      "object_position": null,
      "order": null,
      "overflow": null,
      "overflow_x": null,
      "overflow_y": null,
      "padding": null,
      "right": null,
      "top": null,
      "visibility": null,
      "width": null
     }
    },
    "c97374c27eb64d0aa375ebade509aac7": {
     "model_module": "@jupyter-widgets/controls",
     "model_module_version": "1.5.0",
     "model_name": "DescriptionStyleModel",
     "state": {
      "_model_module": "@jupyter-widgets/controls",
      "_model_module_version": "1.5.0",
      "_model_name": "DescriptionStyleModel",
      "_view_count": null,
      "_view_module": "@jupyter-widgets/base",
      "_view_module_version": "1.2.0",
      "_view_name": "StyleView",
      "description_width": ""
     }
    },
    "ca1d226486da4f149162b124daf094ff": {
     "model_module": "@jupyter-widgets/controls",
     "model_module_version": "1.5.0",
     "model_name": "HBoxModel",
     "state": {
      "_dom_classes": [],
      "_model_module": "@jupyter-widgets/controls",
      "_model_module_version": "1.5.0",
      "_model_name": "HBoxModel",
      "_view_count": null,
      "_view_module": "@jupyter-widgets/controls",
      "_view_module_version": "1.5.0",
      "_view_name": "HBoxView",
      "box_style": "",
      "children": [
       "IPY_MODEL_9301e760ff90461f98373ee85a1d84cd",
       "IPY_MODEL_72fd48cfa9044d7091e48d360e20bf98",
       "IPY_MODEL_280b76a4ec0b4d768810ef9f1415cae9"
      ],
      "layout": "IPY_MODEL_1a8b79c7e51f49aeb27f9dc544d3f989"
     }
    },
    "f1036a42fcd142aca3e7d884fb687b52": {
     "model_module": "@jupyter-widgets/base",
     "model_module_version": "1.2.0",
     "model_name": "LayoutModel",
     "state": {
      "_model_module": "@jupyter-widgets/base",
      "_model_module_version": "1.2.0",
      "_model_name": "LayoutModel",
      "_view_count": null,
      "_view_module": "@jupyter-widgets/base",
      "_view_module_version": "1.2.0",
      "_view_name": "LayoutView",
      "align_content": null,
      "align_items": null,
      "align_self": null,
      "border": null,
      "bottom": null,
      "display": null,
      "flex": null,
      "flex_flow": null,
      "grid_area": null,
      "grid_auto_columns": null,
      "grid_auto_flow": null,
      "grid_auto_rows": null,
      "grid_column": null,
      "grid_gap": null,
      "grid_row": null,
      "grid_template_areas": null,
      "grid_template_columns": null,
      "grid_template_rows": null,
      "height": null,
      "justify_content": null,
      "justify_items": null,
      "left": null,
      "margin": null,
      "max_height": null,
      "max_width": null,
      "min_height": null,
      "min_width": null,
      "object_fit": null,
      "object_position": null,
      "order": null,
      "overflow": null,
      "overflow_x": null,
      "overflow_y": null,
      "padding": null,
      "right": null,
      "top": null,
      "visibility": null,
      "width": null
     }
    }
   }
  }
 },
 "nbformat": 4,
 "nbformat_minor": 0
}
